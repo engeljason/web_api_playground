{
 "cells": [
  {
   "cell_type": "markdown",
   "metadata": {},
   "source": [
    "# VacationPy\n",
    "----\n",
    "\n",
    "#### Note\n",
    "* Keep an eye on your API usage. Use https://developers.google.com/maps/reporting/gmp-reporting as reference for how to monitor your usage and billing.\n",
    "\n",
    "* Instructions have been included for each segment. You do not have to follow them exactly, but they are included to help you think through the steps."
   ]
  },
  {
   "cell_type": "code",
   "execution_count": 4,
   "metadata": {},
   "outputs": [],
   "source": [
    "# Dependencies and Setup\n",
    "import matplotlib.pyplot as plt\n",
    "import pandas as pd\n",
    "import numpy as np\n",
    "import requests\n",
    "import gmaps\n",
    "import os\n",
    "\n",
    "# Import API key\n",
    "from api_keys import gkey\n",
    "\n",
    "gmaps.configure(api_key=gkey)\n",
    "weather_file = os.path.join(\"..\",\"output_data\",\"cities.csv\")"
   ]
  },
  {
   "cell_type": "markdown",
   "metadata": {},
   "source": [
    "### Store Part I results into DataFrame\n",
    "* Load the csv exported in Part I to a DataFrame"
   ]
  },
  {
   "cell_type": "code",
   "execution_count": 3,
   "metadata": {},
   "outputs": [
    {
     "output_type": "execute_result",
     "data": {
      "text/plain": [
       "       name country      lat       lng  max_temp  temperature  humidity  \\\n",
       "0   Rikitea      PF -23.1203 -134.9692     74.44        74.44        75   \n",
       "1  Pārsābād      IR  39.6482   47.9174     84.18        84.18        42   \n",
       "\n",
       "   cloudiness  wind_speed        date  \n",
       "0           1        9.86  1624767295  \n",
       "1          59        3.38  1624767295  "
      ],
      "text/html": "<div>\n<style scoped>\n    .dataframe tbody tr th:only-of-type {\n        vertical-align: middle;\n    }\n\n    .dataframe tbody tr th {\n        vertical-align: top;\n    }\n\n    .dataframe thead th {\n        text-align: right;\n    }\n</style>\n<table border=\"1\" class=\"dataframe\">\n  <thead>\n    <tr style=\"text-align: right;\">\n      <th></th>\n      <th>name</th>\n      <th>country</th>\n      <th>lat</th>\n      <th>lng</th>\n      <th>max_temp</th>\n      <th>temperature</th>\n      <th>humidity</th>\n      <th>cloudiness</th>\n      <th>wind_speed</th>\n      <th>date</th>\n    </tr>\n  </thead>\n  <tbody>\n    <tr>\n      <th>0</th>\n      <td>Rikitea</td>\n      <td>PF</td>\n      <td>-23.1203</td>\n      <td>-134.9692</td>\n      <td>74.44</td>\n      <td>74.44</td>\n      <td>75</td>\n      <td>1</td>\n      <td>9.86</td>\n      <td>1624767295</td>\n    </tr>\n    <tr>\n      <th>1</th>\n      <td>Pārsābād</td>\n      <td>IR</td>\n      <td>39.6482</td>\n      <td>47.9174</td>\n      <td>84.18</td>\n      <td>84.18</td>\n      <td>42</td>\n      <td>59</td>\n      <td>3.38</td>\n      <td>1624767295</td>\n    </tr>\n  </tbody>\n</table>\n</div>"
     },
     "metadata": {},
     "execution_count": 3
    }
   ],
   "source": [
    "weather_df = pd.read_csv(weather_file, encoding = \"UTF-16\")\n",
    "weather_df.head(2)\n"
   ]
  },
  {
   "cell_type": "markdown",
   "metadata": {},
   "source": [
    "### Humidity Heatmap\n",
    "* Configure gmaps.\n",
    "* Use the Lat and Lng as locations and Humidity as the weight.\n",
    "* Add Heatmap layer to map."
   ]
  },
  {
   "cell_type": "code",
   "execution_count": 18,
   "metadata": {},
   "outputs": [
    {
     "output_type": "display_data",
     "data": {
      "text/plain": "Figure(layout=FigureLayout(height='420px'))",
      "application/vnd.jupyter.widget-view+json": {
       "version_major": 2,
       "version_minor": 0,
       "model_id": "5e73a76dcb57406a8c2f6d52b75538d2"
      }
     },
     "metadata": {}
    }
   ],
   "source": [
    "fig = gmaps.figure(map_type='TERRAIN', mouse_handling= \"NONE\",  zoom_level=1, center=(0, 0))\n",
    "heatmap_layer = gmaps.heatmap_layer(locations = weather_df[[\"lat\", \"lng\"]], weights = weather_df[\"humidity\"])\n",
    "fig.add_layer(heatmap_layer)\n",
    "fig"
   ]
  },
  {
   "cell_type": "markdown",
   "metadata": {},
   "source": [
    "### Create new DataFrame fitting weather criteria\n",
    "* Narrow down the cities to fit weather conditions.\n",
    "* Drop any rows will null values."
   ]
  },
  {
   "cell_type": "code",
   "execution_count": 27,
   "metadata": {},
   "outputs": [
    {
     "output_type": "execute_result",
     "data": {
      "text/plain": [
       "5"
      ]
     },
     "metadata": {},
     "execution_count": 27
    }
   ],
   "source": [
    "good_temp = (weather_df[\"max_temp\"] <= 75) & (weather_df[\"max_temp\"] >= 65)\n",
    "no_wind = weather_df[\"wind_speed\"] <=10\n",
    "clear_skies = weather_df[\"cloudiness\"] <=10\n",
    "not_a_swamp = weather_df[\"humidity\"] <=50\n",
    "vacation_df = weather_df[good_temp & no_wind & clear_skies & not_a_swamp]\n",
    "len(vacation_df)"
   ]
  },
  {
   "cell_type": "markdown",
   "metadata": {},
   "source": [
    "### Hotel Map\n",
    "* Store into variable named `hotel_df`.\n",
    "* Add a \"Hotel Name\" column to the DataFrame.\n",
    "* Set parameters to search for hotels with 5000 meters.\n",
    "* Hit the Google Places API for each city's coordinates.\n",
    "* Store the first Hotel result into the DataFrame.\n",
    "* Plot markers on top of the heatmap."
   ]
  },
  {
   "cell_type": "code",
   "execution_count": 43,
   "metadata": {},
   "outputs": [],
   "source": [
    "\n",
    "def find_hotel(lat, lng, country, city):\n",
    "    url = \"https://maps.googleapis.com/maps/api/place/findplacefromtext/json\"\n",
    "    params = {\n",
    "        \"key\" : gkey,\n",
    "        \"input\" : \"Hotel\",\n",
    "        \"inputtype\" : \"textquery\",\n",
    "        \"locationbias\" : f\"circle:5000@{lat},{lng}\",\n",
    "        \"fields\" : \"name\"\n",
    "    }\n",
    "    r = requests.get(url, params)\n",
    "    if (r.status_code == 200):\n",
    "        c = r.json()['candidates']\n",
    "        if len(c) > 0:\n",
    "            hotel = c[0]['name']\n",
    "            row = {\"lat\" : lat, \"lng\" : lng, \"name\" : hotel, \"country\" : country, \"city\" : city}\n",
    "            return row\n",
    "\n",
    "hotels = [find_hotel(lat, lng, country, city) for lat, lng, country, city in zip(vacation_df[\"lat\"], vacation_df[\"lng\"], vacation_df[\"country\"], vacation_df[\"name\"])]\n"
   ]
  },
  {
   "cell_type": "code",
   "execution_count": 53,
   "metadata": {},
   "outputs": [],
   "source": [
    "hotels_df = pd.DataFrame(hotels)"
   ]
  },
  {
   "cell_type": "code",
   "execution_count": 50,
   "metadata": {},
   "outputs": [],
   "source": [
    "# NOTE: Do not change any of the code in this cell\n",
    "\n",
    "# Using the template add the hotel marks to the heatmap\n",
    "info_box_template = \"\"\"\n",
    "<dl>\n",
    "<dt>Name</dt><dd>{name}</dd>\n",
    "<dt>City</dt><dd>{city}</dd>\n",
    "<dt>Country</dt><dd>{country}</dd>\n",
    "</dl>\n",
    "\"\"\"\n",
    "# Store the DataFrame Row\n",
    "# NOTE: be sure to update with your DataFrame name\n",
    "hotel_info = [info_box_template.format(**row) for index, row in hotels_df.iterrows()]\n",
    "locations = hotels_df[[\"lat\", \"lng\"]]"
   ]
  },
  {
   "cell_type": "code",
   "execution_count": 52,
   "metadata": {},
   "outputs": [
    {
     "output_type": "display_data",
     "data": {
      "text/plain": "Figure(layout=FigureLayout(height='420px'))",
      "application/vnd.jupyter.widget-view+json": {
       "version_major": 2,
       "version_minor": 0,
       "model_id": "5e73a76dcb57406a8c2f6d52b75538d2"
      }
     },
     "metadata": {}
    }
   ],
   "source": [
    "# Add marker layer ontop of heat map\n",
    "marker_layer = gmaps.marker_layer(locations, info_box_content = hotel_info)\n",
    "\n",
    "fig.add_layer(marker_layer)\n",
    "# Display figure\n",
    "fig"
   ]
  },
  {
   "cell_type": "code",
   "execution_count": null,
   "metadata": {},
   "outputs": [],
   "source": []
  }
 ],
 "metadata": {
  "kernelspec": {
   "name": "python3",
   "display_name": "Python 3.6.10 64-bit ('PythonData': conda)"
  },
  "language_info": {
   "codemirror_mode": {
    "name": "ipython",
    "version": 3
   },
   "file_extension": ".py",
   "mimetype": "text/x-python",
   "name": "python",
   "nbconvert_exporter": "python",
   "pygments_lexer": "ipython3",
   "version": "3.6.10"
  },
  "latex_envs": {
   "LaTeX_envs_menu_present": true,
   "autoclose": false,
   "autocomplete": true,
   "bibliofile": "biblio.bib",
   "cite_by": "apalike",
   "current_citInitial": 1,
   "eqLabelWithNumbers": true,
   "eqNumInitial": 1,
   "hotkeys": {
    "equation": "Ctrl-E",
    "itemize": "Ctrl-I"
   },
   "labels_anchors": false,
   "latex_user_defs": false,
   "report_style_numbering": false,
   "user_envs_cfg": false
  },
  "interpreter": {
   "hash": "79264824c40396a64d10485446bbc394f17a77ecfe3bed33e1bfdf8fe75a4647"
  }
 },
 "nbformat": 4,
 "nbformat_minor": 4
}